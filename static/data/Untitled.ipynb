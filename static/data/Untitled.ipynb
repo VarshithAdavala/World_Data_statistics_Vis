{
 "cells": [
  {
   "cell_type": "code",
   "execution_count": 1,
   "id": "deb79112",
   "metadata": {},
   "outputs": [],
   "source": [
    "import pandas as pd"
   ]
  },
  {
   "cell_type": "code",
   "execution_count": null,
   "id": "e63d900f",
   "metadata": {},
   "outputs": [],
   "source": []
  },
  {
   "cell_type": "code",
   "execution_count": 40,
   "id": "e8f9d936",
   "metadata": {},
   "outputs": [],
   "source": [
    "date_time=pd.read_csv('Visualization_final.csv')\n",
    "date_time.loc[date_time['Year'] == 2019 , 'Terrorism']=date_time.loc[date_time['Year'] == 2017 , 'Terrorism'].iloc[:-3].values"
   ]
  },
  {
   "cell_type": "code",
   "execution_count": 41,
   "id": "4fc73f66",
   "metadata": {},
   "outputs": [
    {
     "data": {
      "text/plain": [
       "24       12\n",
       "49        0\n",
       "74        4\n",
       "99        2\n",
       "124       5\n",
       "       ... \n",
       "1583      0\n",
       "1608    222\n",
       "1633     40\n",
       "1658      0\n",
       "1703     42\n",
       "Name: Terrorism, Length: 68, dtype: int64"
      ]
     },
     "execution_count": 41,
     "metadata": {},
     "output_type": "execute_result"
    }
   ],
   "source": [
    "date_time.loc[date_time['Year'] == 2019]['Terrorism']"
   ]
  },
  {
   "cell_type": "code",
   "execution_count": 44,
   "id": "f5cfadd6",
   "metadata": {},
   "outputs": [],
   "source": [
    "date_time.to_csv(\"Visualization_final1.csv\")"
   ]
  },
  {
   "cell_type": "code",
   "execution_count": null,
   "id": "9905f629",
   "metadata": {},
   "outputs": [],
   "source": []
  }
 ],
 "metadata": {
  "kernelspec": {
   "display_name": "Python 3 (ipykernel)",
   "language": "python",
   "name": "python3"
  },
  "language_info": {
   "codemirror_mode": {
    "name": "ipython",
    "version": 3
   },
   "file_extension": ".py",
   "mimetype": "text/x-python",
   "name": "python",
   "nbconvert_exporter": "python",
   "pygments_lexer": "ipython3",
   "version": "3.9.7"
  }
 },
 "nbformat": 4,
 "nbformat_minor": 5
}
